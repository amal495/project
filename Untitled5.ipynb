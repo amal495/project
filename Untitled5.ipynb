{
 "cells": [
  {
   "cell_type": "code",
   "execution_count": 1,
   "metadata": {},
   "outputs": [
    {
     "name": "stderr",
     "output_type": "stream",
     "text": [
      "Using TensorFlow backend.\n"
     ]
    }
   ],
   "source": [
    "import keras\n",
    "from keras.models import Sequential\n",
    "from keras.layers import Conv3D, MaxPooling3D, Dense, Flatten, Dropout,Activation\n",
    "from keras.optimizers import Adam\n",
    "\n",
    "\n",
    "import numpy as np\n",
    "import pandas as pd\n",
    "import matplotlib.pyplot as plt\n",
    "from sklearn.model_selection import train_test_split\n",
    "import csv"
   ]
  },
  {
   "cell_type": "code",
   "execution_count": 2,
   "metadata": {},
   "outputs": [],
   "source": [
    "df = pd.read_csv('set2.csv',  quoting=csv.QUOTE_NONE, error_bad_lines=False)\n"
   ]
  },
  {
   "cell_type": "code",
   "execution_count": 3,
   "metadata": {},
   "outputs": [
    {
     "data": {
      "text/plain": [
       "(95, 14)"
      ]
     },
     "execution_count": 3,
     "metadata": {},
     "output_type": "execute_result"
    }
   ],
   "source": [
    "df.shape"
   ]
  },
  {
   "cell_type": "code",
   "execution_count": 4,
   "metadata": {
    "scrolled": true
   },
   "outputs": [
    {
     "data": {
      "text/html": [
       "<div>\n",
       "<style scoped>\n",
       "    .dataframe tbody tr th:only-of-type {\n",
       "        vertical-align: middle;\n",
       "    }\n",
       "\n",
       "    .dataframe tbody tr th {\n",
       "        vertical-align: top;\n",
       "    }\n",
       "\n",
       "    .dataframe thead th {\n",
       "        text-align: right;\n",
       "    }\n",
       "</style>\n",
       "<table border=\"1\" class=\"dataframe\">\n",
       "  <thead>\n",
       "    <tr style=\"text-align: right;\">\n",
       "      <th></th>\n",
       "      <th>part_name</th>\n",
       "      <th>volume</th>\n",
       "      <th>rotu_size</th>\n",
       "      <th>diff_grade</th>\n",
       "      <th>pressured_air</th>\n",
       "      <th>parts_per_minut</th>\n",
       "      <th>output_track</th>\n",
       "      <th>Hooking_grade</th>\n",
       "      <th>material</th>\n",
       "      <th>deformable</th>\n",
       "      <th>cost</th>\n",
       "      <th>time</th>\n",
       "      <th>file_name</th>\n",
       "      <th>voxels.npy</th>\n",
       "    </tr>\n",
       "  </thead>\n",
       "  <tbody>\n",
       "    <tr>\n",
       "      <th>0</th>\n",
       "      <td>O-Ring</td>\n",
       "      <td>117.198329</td>\n",
       "      <td>S</td>\n",
       "      <td>6</td>\n",
       "      <td>No</td>\n",
       "      <td>-1</td>\n",
       "      <td>-1</td>\n",
       "      <td>No</td>\n",
       "      <td>steal</td>\n",
       "      <td>No</td>\n",
       "      <td>-1</td>\n",
       "      <td>-1</td>\n",
       "      <td>DR 1700 6x2.5.stl</td>\n",
       "      <td>set0</td>\n",
       "    </tr>\n",
       "    <tr>\n",
       "      <th>1</th>\n",
       "      <td>O-Ring</td>\n",
       "      <td>1553.122389</td>\n",
       "      <td>S</td>\n",
       "      <td>6</td>\n",
       "      <td>No</td>\n",
       "      <td>-1</td>\n",
       "      <td>-1</td>\n",
       "      <td>No</td>\n",
       "      <td>steal</td>\n",
       "      <td>No</td>\n",
       "      <td>-1</td>\n",
       "      <td>-1</td>\n",
       "      <td>DR 1700 40x4.stl</td>\n",
       "      <td>set1</td>\n",
       "    </tr>\n",
       "    <tr>\n",
       "      <th>2</th>\n",
       "      <td>O-Ring</td>\n",
       "      <td>88.147499</td>\n",
       "      <td>S</td>\n",
       "      <td>1</td>\n",
       "      <td>No</td>\n",
       "      <td>200</td>\n",
       "      <td>1</td>\n",
       "      <td>No</td>\n",
       "      <td>selicon/rubber</td>\n",
       "      <td>Yes</td>\n",
       "      <td>7000</td>\n",
       "      <td>14</td>\n",
       "      <td>DR 1700 8x2.stl</td>\n",
       "      <td>set2</td>\n",
       "    </tr>\n",
       "    <tr>\n",
       "      <th>3</th>\n",
       "      <td>O-Ring</td>\n",
       "      <td>847.615547</td>\n",
       "      <td>M</td>\n",
       "      <td>1</td>\n",
       "      <td>No</td>\n",
       "      <td>250</td>\n",
       "      <td>1</td>\n",
       "      <td>No</td>\n",
       "      <td>selicon/rubber</td>\n",
       "      <td>Yes</td>\n",
       "      <td>7000</td>\n",
       "      <td>14</td>\n",
       "      <td>DR 1700 20x4.stl</td>\n",
       "      <td>set3</td>\n",
       "    </tr>\n",
       "    <tr>\n",
       "      <th>4</th>\n",
       "      <td>O-Ring</td>\n",
       "      <td>123.374870</td>\n",
       "      <td>S</td>\n",
       "      <td>1</td>\n",
       "      <td>No</td>\n",
       "      <td>200</td>\n",
       "      <td>1</td>\n",
       "      <td>No</td>\n",
       "      <td>selicon/rubber</td>\n",
       "      <td>Yes</td>\n",
       "      <td>7000</td>\n",
       "      <td>14</td>\n",
       "      <td>DR 1700 12x2.stl</td>\n",
       "      <td>set4</td>\n",
       "    </tr>\n",
       "  </tbody>\n",
       "</table>\n",
       "</div>"
      ],
      "text/plain": [
       "  part_name       volume rotu_size  diff_grade pressured_air  parts_per_minut  \\\n",
       "0    O-Ring   117.198329         S           6            No               -1   \n",
       "1    O-Ring  1553.122389         S           6            No               -1   \n",
       "2    O-Ring    88.147499         S           1            No              200   \n",
       "3    O-Ring   847.615547         M           1            No              250   \n",
       "4    O-Ring   123.374870         S           1            No              200   \n",
       "\n",
       "   output_track Hooking_grade        material deformable  cost  time  \\\n",
       "0            -1            No           steal         No    -1    -1   \n",
       "1            -1            No           steal         No    -1    -1   \n",
       "2             1            No  selicon/rubber        Yes  7000    14   \n",
       "3             1            No  selicon/rubber        Yes  7000    14   \n",
       "4             1            No  selicon/rubber        Yes  7000    14   \n",
       "\n",
       "           file_name voxels.npy  \n",
       "0  DR 1700 6x2.5.stl       set0  \n",
       "1   DR 1700 40x4.stl       set1  \n",
       "2    DR 1700 8x2.stl       set2  \n",
       "3   DR 1700 20x4.stl       set3  \n",
       "4   DR 1700 12x2.stl       set4  "
      ]
     },
     "execution_count": 4,
     "metadata": {},
     "output_type": "execute_result"
    }
   ],
   "source": [
    "df.head()\n"
   ]
  },
  {
   "cell_type": "code",
   "execution_count": 5,
   "metadata": {},
   "outputs": [],
   "source": [
    "df.loc[df['cost'] <0, 'diff_grade'] = 6"
   ]
  },
  {
   "cell_type": "code",
   "execution_count": 6,
   "metadata": {},
   "outputs": [
    {
     "data": {
      "text/plain": [
       "Index(['part_name', 'volume', 'rotu_size', 'diff_grade', 'pressured_air',\n",
       "       'parts_per_minut', 'output_track', 'Hooking_grade', 'material',\n",
       "       'deformable', 'cost', 'time', 'file_name', 'voxels.npy'],\n",
       "      dtype='object')"
      ]
     },
     "execution_count": 6,
     "metadata": {},
     "output_type": "execute_result"
    }
   ],
   "source": [
    "df.columns"
   ]
  },
  {
   "cell_type": "code",
   "execution_count": 7,
   "metadata": {},
   "outputs": [],
   "source": [
    "df_cnn=df[['voxels.npy','diff_grade','cost', 'time']]"
   ]
  },
  {
   "cell_type": "code",
   "execution_count": 8,
   "metadata": {},
   "outputs": [
    {
     "data": {
      "text/html": [
       "<div>\n",
       "<style scoped>\n",
       "    .dataframe tbody tr th:only-of-type {\n",
       "        vertical-align: middle;\n",
       "    }\n",
       "\n",
       "    .dataframe tbody tr th {\n",
       "        vertical-align: top;\n",
       "    }\n",
       "\n",
       "    .dataframe thead th {\n",
       "        text-align: right;\n",
       "    }\n",
       "</style>\n",
       "<table border=\"1\" class=\"dataframe\">\n",
       "  <thead>\n",
       "    <tr style=\"text-align: right;\">\n",
       "      <th></th>\n",
       "      <th>voxels.npy</th>\n",
       "      <th>diff_grade</th>\n",
       "      <th>cost</th>\n",
       "      <th>time</th>\n",
       "    </tr>\n",
       "  </thead>\n",
       "  <tbody>\n",
       "    <tr>\n",
       "      <th>0</th>\n",
       "      <td>set0</td>\n",
       "      <td>6</td>\n",
       "      <td>-1</td>\n",
       "      <td>-1</td>\n",
       "    </tr>\n",
       "    <tr>\n",
       "      <th>1</th>\n",
       "      <td>set1</td>\n",
       "      <td>6</td>\n",
       "      <td>-1</td>\n",
       "      <td>-1</td>\n",
       "    </tr>\n",
       "    <tr>\n",
       "      <th>2</th>\n",
       "      <td>set2</td>\n",
       "      <td>1</td>\n",
       "      <td>7000</td>\n",
       "      <td>14</td>\n",
       "    </tr>\n",
       "    <tr>\n",
       "      <th>3</th>\n",
       "      <td>set3</td>\n",
       "      <td>1</td>\n",
       "      <td>7000</td>\n",
       "      <td>14</td>\n",
       "    </tr>\n",
       "    <tr>\n",
       "      <th>4</th>\n",
       "      <td>set4</td>\n",
       "      <td>1</td>\n",
       "      <td>7000</td>\n",
       "      <td>14</td>\n",
       "    </tr>\n",
       "  </tbody>\n",
       "</table>\n",
       "</div>"
      ],
      "text/plain": [
       "  voxels.npy  diff_grade  cost  time\n",
       "0       set0           6    -1    -1\n",
       "1       set1           6    -1    -1\n",
       "2       set2           1  7000    14\n",
       "3       set3           1  7000    14\n",
       "4       set4           1  7000    14"
      ]
     },
     "execution_count": 8,
     "metadata": {},
     "output_type": "execute_result"
    }
   ],
   "source": [
    "df_cnn.head()"
   ]
  },
  {
   "cell_type": "code",
   "execution_count": 9,
   "metadata": {},
   "outputs": [],
   "source": [
    "df_other=df[['part_name', 'volume', 'pressured_air',\n",
    "       'parts_per_minut', 'output_track', 'Hooking_grade', 'material',\n",
    "       'deformable','diff_grade','rotu_size', 'time', 'cost']]"
   ]
  },
  {
   "cell_type": "code",
   "execution_count": 10,
   "metadata": {},
   "outputs": [],
   "source": [
    "df3=df_other.loc[df_other['diff_grade']<6]"
   ]
  },
  {
   "cell_type": "code",
   "execution_count": 11,
   "metadata": {},
   "outputs": [
    {
     "data": {
      "text/html": [
       "<div>\n",
       "<style scoped>\n",
       "    .dataframe tbody tr th:only-of-type {\n",
       "        vertical-align: middle;\n",
       "    }\n",
       "\n",
       "    .dataframe tbody tr th {\n",
       "        vertical-align: top;\n",
       "    }\n",
       "\n",
       "    .dataframe thead th {\n",
       "        text-align: right;\n",
       "    }\n",
       "</style>\n",
       "<table border=\"1\" class=\"dataframe\">\n",
       "  <thead>\n",
       "    <tr style=\"text-align: right;\">\n",
       "      <th></th>\n",
       "      <th>part_name</th>\n",
       "      <th>volume</th>\n",
       "      <th>pressured_air</th>\n",
       "      <th>parts_per_minut</th>\n",
       "      <th>output_track</th>\n",
       "      <th>Hooking_grade</th>\n",
       "      <th>material</th>\n",
       "      <th>deformable</th>\n",
       "      <th>diff_grade</th>\n",
       "      <th>rotu_size</th>\n",
       "      <th>time</th>\n",
       "      <th>cost</th>\n",
       "    </tr>\n",
       "  </thead>\n",
       "  <tbody>\n",
       "    <tr>\n",
       "      <th>2</th>\n",
       "      <td>O-Ring</td>\n",
       "      <td>88.147499</td>\n",
       "      <td>No</td>\n",
       "      <td>200</td>\n",
       "      <td>1</td>\n",
       "      <td>No</td>\n",
       "      <td>selicon/rubber</td>\n",
       "      <td>Yes</td>\n",
       "      <td>1</td>\n",
       "      <td>S</td>\n",
       "      <td>14</td>\n",
       "      <td>7000</td>\n",
       "    </tr>\n",
       "    <tr>\n",
       "      <th>3</th>\n",
       "      <td>O-Ring</td>\n",
       "      <td>847.615547</td>\n",
       "      <td>No</td>\n",
       "      <td>250</td>\n",
       "      <td>1</td>\n",
       "      <td>No</td>\n",
       "      <td>selicon/rubber</td>\n",
       "      <td>Yes</td>\n",
       "      <td>1</td>\n",
       "      <td>M</td>\n",
       "      <td>14</td>\n",
       "      <td>7000</td>\n",
       "    </tr>\n",
       "    <tr>\n",
       "      <th>4</th>\n",
       "      <td>O-Ring</td>\n",
       "      <td>123.374870</td>\n",
       "      <td>No</td>\n",
       "      <td>200</td>\n",
       "      <td>1</td>\n",
       "      <td>No</td>\n",
       "      <td>selicon/rubber</td>\n",
       "      <td>Yes</td>\n",
       "      <td>1</td>\n",
       "      <td>S</td>\n",
       "      <td>14</td>\n",
       "      <td>7000</td>\n",
       "    </tr>\n",
       "    <tr>\n",
       "      <th>6</th>\n",
       "      <td>Hutmutter</td>\n",
       "      <td>1320.570217</td>\n",
       "      <td>No</td>\n",
       "      <td>250</td>\n",
       "      <td>1</td>\n",
       "      <td>No</td>\n",
       "      <td>steal</td>\n",
       "      <td>No</td>\n",
       "      <td>1</td>\n",
       "      <td>M</td>\n",
       "      <td>14</td>\n",
       "      <td>7000</td>\n",
       "    </tr>\n",
       "    <tr>\n",
       "      <th>7</th>\n",
       "      <td>Hutmutter</td>\n",
       "      <td>207.943655</td>\n",
       "      <td>No</td>\n",
       "      <td>200</td>\n",
       "      <td>1</td>\n",
       "      <td>No</td>\n",
       "      <td>steal</td>\n",
       "      <td>No</td>\n",
       "      <td>2</td>\n",
       "      <td>S</td>\n",
       "      <td>14</td>\n",
       "      <td>7000</td>\n",
       "    </tr>\n",
       "  </tbody>\n",
       "</table>\n",
       "</div>"
      ],
      "text/plain": [
       "   part_name       volume pressured_air  parts_per_minut  output_track  \\\n",
       "2     O-Ring    88.147499            No              200             1   \n",
       "3     O-Ring   847.615547            No              250             1   \n",
       "4     O-Ring   123.374870            No              200             1   \n",
       "6  Hutmutter  1320.570217            No              250             1   \n",
       "7  Hutmutter   207.943655            No              200             1   \n",
       "\n",
       "  Hooking_grade        material deformable  diff_grade rotu_size  time  cost  \n",
       "2            No  selicon/rubber        Yes           1         S    14  7000  \n",
       "3            No  selicon/rubber        Yes           1         M    14  7000  \n",
       "4            No  selicon/rubber        Yes           1         S    14  7000  \n",
       "6            No           steal         No           1         M    14  7000  \n",
       "7            No           steal         No           2         S    14  7000  "
      ]
     },
     "execution_count": 11,
     "metadata": {},
     "output_type": "execute_result"
    }
   ],
   "source": [
    "df3.head()"
   ]
  },
  {
   "cell_type": "code",
   "execution_count": 12,
   "metadata": {},
   "outputs": [
    {
     "name": "stderr",
     "output_type": "stream",
     "text": [
      "/home/user/anaconda3/envs/test/lib/python3.7/site-packages/ipykernel_launcher.py:2: SettingWithCopyWarning: \n",
      "A value is trying to be set on a copy of a slice from a DataFrame.\n",
      "Try using .loc[row_indexer,col_indexer] = value instead\n",
      "\n",
      "See the caveats in the documentation: http://pandas.pydata.org/pandas-docs/stable/indexing.html#indexing-view-versus-copy\n",
      "  \n",
      "/home/user/anaconda3/envs/test/lib/python3.7/site-packages/ipykernel_launcher.py:4: SettingWithCopyWarning: \n",
      "A value is trying to be set on a copy of a slice from a DataFrame.\n",
      "Try using .loc[row_indexer,col_indexer] = value instead\n",
      "\n",
      "See the caveats in the documentation: http://pandas.pydata.org/pandas-docs/stable/indexing.html#indexing-view-versus-copy\n",
      "  after removing the cwd from sys.path.\n",
      "/home/user/anaconda3/envs/test/lib/python3.7/site-packages/ipykernel_launcher.py:6: SettingWithCopyWarning: \n",
      "A value is trying to be set on a copy of a slice from a DataFrame.\n",
      "Try using .loc[row_indexer,col_indexer] = value instead\n",
      "\n",
      "See the caveats in the documentation: http://pandas.pydata.org/pandas-docs/stable/indexing.html#indexing-view-versus-copy\n",
      "  \n"
     ]
    }
   ],
   "source": [
    "yes_no=[1 if value=='Yes' else 0 for value in df3.deformable]\n",
    "df3['deformable']=yes_no\n",
    "yes_no=[1 if value=='Yes' else 0 for value in df3.pressured_air]\n",
    "df3['pressured_air']=yes_no\n",
    "yes_no=[1 if value=='Yes' else 0 for value in df3.Hooking_grade]\n",
    "df3['Hooking_grade']=yes_no\n"
   ]
  },
  {
   "cell_type": "code",
   "execution_count": 13,
   "metadata": {},
   "outputs": [
    {
     "data": {
      "text/plain": [
       "<matplotlib.axes._subplots.AxesSubplot at 0x7f8426483630>"
      ]
     },
     "execution_count": 13,
     "metadata": {},
     "output_type": "execute_result"
    },
    {
     "data": {
      "image/png": "[encoded data removed]",
      "text/plain": [
       "<Figure size 432x288 with 1 Axes>"
      ]
     },
     "metadata": {
      "needs_background": "light"
     },
     "output_type": "display_data"
    }
   ],
   "source": [
    "df3.plot(kind='box')"
   ]
  },
  {
   "cell_type": "code",
   "execution_count": 14,
   "metadata": {},
   "outputs": [],
   "source": [
    "x=df3[[ 'volume', 'pressured_air',\n",
    "       'parts_per_minut', 'output_track', 'Hooking_grade', 'material',\n",
    "       'deformable','diff_grade','rotu_size']]"
   ]
  },
  {
   "cell_type": "code",
   "execution_count": 15,
   "metadata": {},
   "outputs": [],
   "source": [
    "y=df3[['time']]"
   ]
  },
  {
   "cell_type": "code",
   "execution_count": 16,
   "metadata": {},
   "outputs": [],
   "source": [
    "x = pd.concat([x,pd.get_dummies(x['material'], prefix='material' , drop_first=True)],axis=1)\n",
    "x.drop(['material'],axis=1, inplace=True)\n",
    "x = pd.concat([x,pd.get_dummies(x['rotu_size'], prefix='size' , drop_first=True)],axis=1)\n",
    "x.drop(['rotu_size'],axis=1, inplace=True)\n"
   ]
  },
  {
   "cell_type": "code",
   "execution_count": 17,
   "metadata": {},
   "outputs": [],
   "source": [
    "X_train,X_test,y_train,y_test = train_test_split(x,y,test_size=0.2)"
   ]
  },
  {
   "cell_type": "code",
   "execution_count": 18,
   "metadata": {},
   "outputs": [
    {
     "data": {
      "text/html": [
       "<div>\n",
       "<style scoped>\n",
       "    .dataframe tbody tr th:only-of-type {\n",
       "        vertical-align: middle;\n",
       "    }\n",
       "\n",
       "    .dataframe tbody tr th {\n",
       "        vertical-align: top;\n",
       "    }\n",
       "\n",
       "    .dataframe thead th {\n",
       "        text-align: right;\n",
       "    }\n",
       "</style>\n",
       "<table border=\"1\" class=\"dataframe\">\n",
       "  <thead>\n",
       "    <tr style=\"text-align: right;\">\n",
       "      <th></th>\n",
       "      <th>volume</th>\n",
       "      <th>pressured_air</th>\n",
       "      <th>parts_per_minut</th>\n",
       "      <th>output_track</th>\n",
       "      <th>Hooking_grade</th>\n",
       "      <th>deformable</th>\n",
       "      <th>diff_grade</th>\n",
       "      <th>material_plastic</th>\n",
       "      <th>material_selicon/rubber</th>\n",
       "      <th>material_steal</th>\n",
       "      <th>size_M</th>\n",
       "      <th>size_S</th>\n",
       "    </tr>\n",
       "  </thead>\n",
       "  <tbody>\n",
       "    <tr>\n",
       "      <th>2</th>\n",
       "      <td>88.147499</td>\n",
       "      <td>0</td>\n",
       "      <td>200</td>\n",
       "      <td>1</td>\n",
       "      <td>0</td>\n",
       "      <td>1</td>\n",
       "      <td>1</td>\n",
       "      <td>0</td>\n",
       "      <td>1</td>\n",
       "      <td>0</td>\n",
       "      <td>0</td>\n",
       "      <td>1</td>\n",
       "    </tr>\n",
       "    <tr>\n",
       "      <th>3</th>\n",
       "      <td>847.615547</td>\n",
       "      <td>0</td>\n",
       "      <td>250</td>\n",
       "      <td>1</td>\n",
       "      <td>0</td>\n",
       "      <td>1</td>\n",
       "      <td>1</td>\n",
       "      <td>0</td>\n",
       "      <td>1</td>\n",
       "      <td>0</td>\n",
       "      <td>1</td>\n",
       "      <td>0</td>\n",
       "    </tr>\n",
       "    <tr>\n",
       "      <th>4</th>\n",
       "      <td>123.374870</td>\n",
       "      <td>0</td>\n",
       "      <td>200</td>\n",
       "      <td>1</td>\n",
       "      <td>0</td>\n",
       "      <td>1</td>\n",
       "      <td>1</td>\n",
       "      <td>0</td>\n",
       "      <td>1</td>\n",
       "      <td>0</td>\n",
       "      <td>0</td>\n",
       "      <td>1</td>\n",
       "    </tr>\n",
       "    <tr>\n",
       "      <th>6</th>\n",
       "      <td>1320.570217</td>\n",
       "      <td>0</td>\n",
       "      <td>250</td>\n",
       "      <td>1</td>\n",
       "      <td>0</td>\n",
       "      <td>0</td>\n",
       "      <td>1</td>\n",
       "      <td>0</td>\n",
       "      <td>0</td>\n",
       "      <td>1</td>\n",
       "      <td>1</td>\n",
       "      <td>0</td>\n",
       "    </tr>\n",
       "    <tr>\n",
       "      <th>7</th>\n",
       "      <td>207.943655</td>\n",
       "      <td>0</td>\n",
       "      <td>200</td>\n",
       "      <td>1</td>\n",
       "      <td>0</td>\n",
       "      <td>0</td>\n",
       "      <td>2</td>\n",
       "      <td>0</td>\n",
       "      <td>0</td>\n",
       "      <td>1</td>\n",
       "      <td>0</td>\n",
       "      <td>1</td>\n",
       "    </tr>\n",
       "  </tbody>\n",
       "</table>\n",
       "</div>"
      ],
      "text/plain": [
       "        volume  pressured_air  parts_per_minut  output_track  Hooking_grade  \\\n",
       "2    88.147499              0              200             1              0   \n",
       "3   847.615547              0              250             1              0   \n",
       "4   123.374870              0              200             1              0   \n",
       "6  1320.570217              0              250             1              0   \n",
       "7   207.943655              0              200             1              0   \n",
       "\n",
       "   deformable  diff_grade  material_plastic  material_selicon/rubber  \\\n",
       "2           1           1                 0                        1   \n",
       "3           1           1                 0                        1   \n",
       "4           1           1                 0                        1   \n",
       "6           0           1                 0                        0   \n",
       "7           0           2                 0                        0   \n",
       "\n",
       "   material_steal  size_M  size_S  \n",
       "2               0       0       1  \n",
       "3               0       1       0  \n",
       "4               0       0       1  \n",
       "6               1       1       0  \n",
       "7               1       0       1  "
      ]
     },
     "execution_count": 18,
     "metadata": {},
     "output_type": "execute_result"
    }
   ],
   "source": [
    "x.head()"
   ]
  },
  {
   "cell_type": "code",
   "execution_count": 19,
   "metadata": {},
   "outputs": [],
   "source": [
    "from sklearn.linear_model import LinearRegression"
   ]
  },
  {
   "cell_type": "code",
   "execution_count": 20,
   "metadata": {},
   "outputs": [],
   "source": [
    "reg_time=LinearRegression()"
   ]
  },
  {
   "cell_type": "code",
   "execution_count": 21,
   "metadata": {},
   "outputs": [
    {
     "data": {
      "text/plain": [
       "LinearRegression(copy_X=True, fit_intercept=True, n_jobs=None,\n",
       "         normalize=False)"
      ]
     },
     "execution_count": 21,
     "metadata": {},
     "output_type": "execute_result"
    }
   ],
   "source": [
    "reg_time.fit(X_train, y_train)"
   ]
  },
  {
   "cell_type": "code",
   "execution_count": 22,
   "metadata": {},
   "outputs": [
    {
     "data": {
      "text/plain": [
       "0.6757711051314964"
      ]
     },
     "execution_count": 22,
     "metadata": {},
     "output_type": "execute_result"
    }
   ],
   "source": [
    "reg_time.score(X_test,y_test)"
   ]
  },
  {
   "cell_type": "code",
   "execution_count": 23,
   "metadata": {},
   "outputs": [],
   "source": [
    "number_class=6"
   ]
  },
  {
   "cell_type": "code",
   "execution_count": 24,
   "metadata": {},
   "outputs": [
    {
     "data": {
      "text/plain": [
       "part_name           object\n",
       "volume             float64\n",
       "rotu_size           object\n",
       "diff_grade           int64\n",
       "pressured_air       object\n",
       "parts_per_minut      int64\n",
       "output_track         int64\n",
       "Hooking_grade       object\n",
       "material            object\n",
       "deformable          object\n",
       "cost                 int64\n",
       "time                 int64\n",
       "file_name           object\n",
       "voxels.npy          object\n",
       "dtype: object"
      ]
     },
     "execution_count": 24,
     "metadata": {},
     "output_type": "execute_result"
    }
   ],
   "source": [
    "df.dtypes"
   ]
  },
  {
   "cell_type": "code",
   "execution_count": 25,
   "metadata": {},
   "outputs": [
    {
     "data": {
      "text/html": [
       "<div>\n",
       "<style scoped>\n",
       "    .dataframe tbody tr th:only-of-type {\n",
       "        vertical-align: middle;\n",
       "    }\n",
       "\n",
       "    .dataframe tbody tr th {\n",
       "        vertical-align: top;\n",
       "    }\n",
       "\n",
       "    .dataframe thead th {\n",
       "        text-align: right;\n",
       "    }\n",
       "</style>\n",
       "<table border=\"1\" class=\"dataframe\">\n",
       "  <thead>\n",
       "    <tr style=\"text-align: right;\">\n",
       "      <th></th>\n",
       "      <th>voxels.npy</th>\n",
       "      <th>diff_grade</th>\n",
       "      <th>cost</th>\n",
       "      <th>time</th>\n",
       "    </tr>\n",
       "  </thead>\n",
       "  <tbody>\n",
       "    <tr>\n",
       "      <th>0</th>\n",
       "      <td>set0</td>\n",
       "      <td>6</td>\n",
       "      <td>-1</td>\n",
       "      <td>-1</td>\n",
       "    </tr>\n",
       "    <tr>\n",
       "      <th>1</th>\n",
       "      <td>set1</td>\n",
       "      <td>6</td>\n",
       "      <td>-1</td>\n",
       "      <td>-1</td>\n",
       "    </tr>\n",
       "    <tr>\n",
       "      <th>2</th>\n",
       "      <td>set2</td>\n",
       "      <td>1</td>\n",
       "      <td>7000</td>\n",
       "      <td>14</td>\n",
       "    </tr>\n",
       "    <tr>\n",
       "      <th>3</th>\n",
       "      <td>set3</td>\n",
       "      <td>1</td>\n",
       "      <td>7000</td>\n",
       "      <td>14</td>\n",
       "    </tr>\n",
       "    <tr>\n",
       "      <th>4</th>\n",
       "      <td>set4</td>\n",
       "      <td>1</td>\n",
       "      <td>7000</td>\n",
       "      <td>14</td>\n",
       "    </tr>\n",
       "  </tbody>\n",
       "</table>\n",
       "</div>"
      ],
      "text/plain": [
       "  voxels.npy  diff_grade  cost  time\n",
       "0       set0           6    -1    -1\n",
       "1       set1           6    -1    -1\n",
       "2       set2           1  7000    14\n",
       "3       set3           1  7000    14\n",
       "4       set4           1  7000    14"
      ]
     },
     "execution_count": 25,
     "metadata": {},
     "output_type": "execute_result"
    }
   ],
   "source": [
    "df_cnn.head()"
   ]
  },
  {
   "cell_type": "code",
   "execution_count": 26,
   "metadata": {},
   "outputs": [],
   "source": [
    "x_cnn=df_cnn[['voxels.npy']]\n",
    "y_cnn=df_cnn[['diff_grade']]"
   ]
  },
  {
   "cell_type": "code",
   "execution_count": 27,
   "metadata": {},
   "outputs": [],
   "source": [
    "y_cnn = pd.concat([y_cnn,pd.get_dummies(y_cnn['diff_grade'], prefix='diff_grade' , drop_first=True)],axis=1)\n",
    "y_cnn.drop(['diff_grade'],axis=1, inplace=True)"
   ]
  },
  {
   "cell_type": "code",
   "execution_count": 28,
   "metadata": {},
   "outputs": [],
   "source": [
    "dataset = np.ndarray(shape=(len(x_cnn), 80,80,80,1),\n",
    "                     dtype=np.float32)\n",
    "\n",
    "i = 0\n",
    "for _file in x_cnn['voxels.npy'].values:\n",
    "    x = np.load( \"voxels/\" + _file +'.npy')  # this is a PIL image\n",
    "    x=np.reshape(x,(80,80,80,1))\n",
    "    # Normalize\n",
    "    x = x /255\n",
    "    dataset[i] = x\n",
    "    i += 1"
   ]
  },
  {
   "cell_type": "code",
   "execution_count": 29,
   "metadata": {},
   "outputs": [
    {
     "data": {
      "text/plain": [
       "(80, 80, 80, 1)"
      ]
     },
     "execution_count": 29,
     "metadata": {},
     "output_type": "execute_result"
    }
   ],
   "source": [
    "dataset.shape[1:]"
   ]
  },
  {
   "cell_type": "code",
   "execution_count": 30,
   "metadata": {},
   "outputs": [],
   "source": [
    "X_train,X_test,y_train,y_test = train_test_split(dataset,y_cnn,test_size=0.2)\n",
    "X_trainc,X_valc,y_trainc,y_valc = train_test_split(X_train,y_train,test_size=0.2)"
   ]
  },
  {
   "cell_type": "code",
   "execution_count": 31,
   "metadata": {},
   "outputs": [
    {
     "name": "stdout",
     "output_type": "stream",
     "text": [
      "WARNING:tensorflow:From /home/user/anaconda3/envs/test/lib/python3.7/site-packages/tensorflow/python/framework/op_def_library.py:263: colocate_with (from tensorflow.python.framework.ops) is deprecated and will be removed in a future version.\n",
      "Instructions for updating:\n",
      "Colocations handled automatically by placer.\n",
      "WARNING:tensorflow:From /home/user/anaconda3/envs/test/lib/python3.7/site-packages/keras/backend/tensorflow_backend.py:3445: calling dropout (from tensorflow.python.ops.nn_ops) with keep_prob is deprecated and will be removed in a future version.\n",
      "Instructions for updating:\n",
      "Please use `rate` instead of `keep_prob`. Rate should be set to `rate = 1 - keep_prob`.\n"
     ]
    },
    {
     "name": "stderr",
     "output_type": "stream",
     "text": [
      "/home/user/anaconda3/envs/test/lib/python3.7/site-packages/ipykernel_launcher.py:4: UserWarning: Update your `Conv3D` call to the Keras 2 API: `Conv3D(16, kernel_size=(3, 3, 3), padding=\"same\")`\n",
      "  after removing the cwd from sys.path.\n",
      "/home/user/anaconda3/envs/test/lib/python3.7/site-packages/ipykernel_launcher.py:6: UserWarning: Update your `MaxPooling3D` call to the Keras 2 API: `MaxPooling3D(pool_size=(3, 3, 3), padding=\"same\")`\n",
      "  \n",
      "/home/user/anaconda3/envs/test/lib/python3.7/site-packages/ipykernel_launcher.py:9: UserWarning: Update your `Conv3D` call to the Keras 2 API: `Conv3D(64, kernel_size=(3, 3, 3), padding=\"same\")`\n",
      "  if __name__ == '__main__':\n",
      "/home/user/anaconda3/envs/test/lib/python3.7/site-packages/ipykernel_launcher.py:11: UserWarning: Update your `Conv3D` call to the Keras 2 API: `Conv3D(64, kernel_size=(3, 3, 3), padding=\"same\")`\n",
      "  # This is added back by InteractiveShellApp.init_path()\n",
      "/home/user/anaconda3/envs/test/lib/python3.7/site-packages/ipykernel_launcher.py:13: UserWarning: Update your `MaxPooling3D` call to the Keras 2 API: `MaxPooling3D(pool_size=(3, 3, 3), padding=\"same\")`\n",
      "  del sys.path[0]\n"
     ]
    }
   ],
   "source": [
    "model = Sequential()\n",
    "model.add(Conv3D(16, kernel_size=(3, 3, 3),input_shape=(80,80,80,1)))\n",
    "model.add(Activation('relu'))\n",
    "model.add(Conv3D(16, kernel_size=(3, 3, 3), border_mode='same'))\n",
    "model.add(Activation('softmax'))\n",
    "model.add(MaxPooling3D(pool_size=(3, 3, 3), border_mode='same'))\n",
    "model.add(Dropout(0.25))\n",
    "\n",
    "model.add(Conv3D(64, kernel_size=(3, 3, 3), border_mode='same'))\n",
    "model.add(Activation('relu'))\n",
    "model.add(Conv3D(64, kernel_size=(3, 3, 3), border_mode='same'))\n",
    "model.add(Activation('softmax'))\n",
    "model.add(MaxPooling3D(pool_size=(3, 3, 3), border_mode='same'))\n",
    "model.add(Dropout(0.25))\n",
    "\n",
    "model.add(Flatten())\n",
    "model.add(Dense(512, activation='sigmoid'))\n",
    "model.add(Dropout(0.5))\n",
    "model.add(Dense(5, activation='softmax'))\n"
   ]
  },
  {
   "cell_type": "code",
   "execution_count": 32,
   "metadata": {},
   "outputs": [
    {
     "name": "stdout",
     "output_type": "stream",
     "text": [
      "_________________________________________________________________\n",
      "Layer (type)                 Output Shape              Param #   \n",
      "=================================================================\n",
      "conv3d_1 (Conv3D)            (None, 78, 78, 78, 16)    448       \n",
      "_________________________________________________________________\n",
      "activation_1 (Activation)    (None, 78, 78, 78, 16)    0         \n",
      "_________________________________________________________________\n",
      "conv3d_2 (Conv3D)            (None, 78, 78, 78, 16)    6928      \n",
      "_________________________________________________________________\n",
      "activation_2 (Activation)    (None, 78, 78, 78, 16)    0         \n",
      "_________________________________________________________________\n",
      "max_pooling3d_1 (MaxPooling3 (None, 26, 26, 26, 16)    0         \n",
      "_________________________________________________________________\n",
      "dropout_1 (Dropout)          (None, 26, 26, 26, 16)    0         \n",
      "_________________________________________________________________\n",
      "conv3d_3 (Conv3D)            (None, 26, 26, 26, 64)    27712     \n",
      "_________________________________________________________________\n",
      "activation_3 (Activation)    (None, 26, 26, 26, 64)    0         \n",
      "_________________________________________________________________\n",
      "conv3d_4 (Conv3D)            (None, 26, 26, 26, 64)    110656    \n",
      "_________________________________________________________________\n",
      "activation_4 (Activation)    (None, 26, 26, 26, 64)    0         \n",
      "_________________________________________________________________\n",
      "max_pooling3d_2 (MaxPooling3 (None, 9, 9, 9, 64)       0         \n",
      "_________________________________________________________________\n",
      "dropout_2 (Dropout)          (None, 9, 9, 9, 64)       0         \n",
      "_________________________________________________________________\n",
      "flatten_1 (Flatten)          (None, 46656)             0         \n",
      "_________________________________________________________________\n",
      "dense_1 (Dense)              (None, 512)               23888384  \n",
      "_________________________________________________________________\n",
      "dropout_3 (Dropout)          (None, 512)               0         \n",
      "_________________________________________________________________\n",
      "dense_2 (Dense)              (None, 5)                 2565      \n",
      "=================================================================\n",
      "Total params: 24,036,693\n",
      "Trainable params: 24,036,693\n",
      "Non-trainable params: 0\n",
      "_________________________________________________________________\n"
     ]
    }
   ],
   "source": [
    "model.summary()"
   ]
  },
  {
   "cell_type": "code",
   "execution_count": 33,
   "metadata": {},
   "outputs": [],
   "source": [
    "model.compile(\n",
    "        loss='categorical_crossentropy',\n",
    "        optimizer=Adam(),\n",
    "        metrics=['accuracy']\n",
    "    )"
   ]
  },
  {
   "cell_type": "code",
   "execution_count": null,
   "metadata": {},
   "outputs": [
    {
     "name": "stdout",
     "output_type": "stream",
     "text": [
      "WARNING:tensorflow:From /home/user/anaconda3/envs/test/lib/python3.7/site-packages/tensorflow/python/ops/math_ops.py:3066: to_int32 (from tensorflow.python.ops.math_ops) is deprecated and will be removed in a future version.\n",
      "Instructions for updating:\n",
      "Use tf.cast instead.\n",
      "WARNING:tensorflow:From /home/user/anaconda3/envs/test/lib/python3.7/site-packages/tensorflow/python/ops/math_grad.py:102: div (from tensorflow.python.ops.math_ops) is deprecated and will be removed in a future version.\n",
      "Instructions for updating:\n",
      "Deprecated in favor of operator or tf.math.divide.\n",
      "Train on 60 samples, validate on 16 samples\n",
      "Epoch 1/60\n"
     ]
    }
   ],
   "source": [
    " model.fit(\n",
    "        X_trainc, y_trainc,\n",
    "        batch_size=20,\n",
    "        epochs=60, verbose=1,\n",
    "        validation_data=(X_valc, y_valc))"
   ]
  },
  {
   "cell_type": "code",
   "execution_count": null,
   "metadata": {},
   "outputs": [],
   "source": []
  },
  {
   "cell_type": "code",
   "execution_count": 1,
   "metadata": {},
   "outputs": [
    {
     "ename": "NameError",
     "evalue": "name 'Sequential' is not defined",
     "output_type": "error",
     "traceback": [
      "\u001b[0;31m---------------------------------------------------------------------------\u001b[0m",
      "\u001b[0;31mNameError\u001b[0m                                 Traceback (most recent call last)",
      "\u001b[0;32m<ipython-input-1-436f6bcd3f62>\u001b[0m in \u001b[0;36m<module>\u001b[0;34m\u001b[0m\n\u001b[0;32m----> 1\u001b[0;31m \u001b[0mmodel\u001b[0m\u001b[0;34m=\u001b[0m\u001b[0mSequential\u001b[0m\u001b[0;34m(\u001b[0m\u001b[0;34m)\u001b[0m\u001b[0;34m\u001b[0m\u001b[0;34m\u001b[0m\u001b[0m\n\u001b[0m\u001b[1;32m      2\u001b[0m \u001b[0mmodel\u001b[0m\u001b[0;34m.\u001b[0m\u001b[0madd\u001b[0m\u001b[0;34m(\u001b[0m\u001b[0mConv3D\u001b[0m\u001b[0;34m(\u001b[0m\u001b[0;36m50\u001b[0m\u001b[0;34m,\u001b[0m\u001b[0minput_shape\u001b[0m\u001b[0;34m=\u001b[0m\u001b[0;34m(\u001b[0m\u001b[0;36m80\u001b[0m\u001b[0;34m,\u001b[0m\u001b[0;36m80\u001b[0m\u001b[0;34m,\u001b[0m\u001b[0;36m80\u001b[0m\u001b[0;34m,\u001b[0m\u001b[0;36m1\u001b[0m\u001b[0;34m)\u001b[0m\u001b[0;34m,\u001b[0m\u001b[0mkernel_size\u001b[0m\u001b[0;34m=\u001b[0m\u001b[0;34m(\u001b[0m\u001b[0;36m5\u001b[0m\u001b[0;34m,\u001b[0m\u001b[0;36m5\u001b[0m\u001b[0;34m,\u001b[0m\u001b[0;36m5\u001b[0m\u001b[0;34m)\u001b[0m\u001b[0;34m,\u001b[0m\u001b[0mstrides\u001b[0m\u001b[0;34m=\u001b[0m\u001b[0;34m(\u001b[0m\u001b[0;36m2\u001b[0m\u001b[0;34m,\u001b[0m\u001b[0;36m2\u001b[0m\u001b[0;34m,\u001b[0m\u001b[0;36m2\u001b[0m\u001b[0;34m)\u001b[0m\u001b[0;34m,\u001b[0m\u001b[0mdata_format\u001b[0m\u001b[0;34m=\u001b[0m\u001b[0;34m'channels_last'\u001b[0m\u001b[0;34m,\u001b[0m\u001b[0;34m)\u001b[0m\u001b[0;34m)\u001b[0m\u001b[0;34m\u001b[0m\u001b[0;34m\u001b[0m\u001b[0m\n\u001b[1;32m      3\u001b[0m \u001b[0mmodel\u001b[0m\u001b[0;34m.\u001b[0m\u001b[0madd\u001b[0m\u001b[0;34m(\u001b[0m\u001b[0mConv3D\u001b[0m\u001b[0;34m(\u001b[0m\u001b[0;36m8\u001b[0m\u001b[0;34m,\u001b[0m\u001b[0mkernel_size\u001b[0m\u001b[0;34m=\u001b[0m\u001b[0;34m(\u001b[0m\u001b[0;36m3\u001b[0m\u001b[0;34m,\u001b[0m\u001b[0;36m3\u001b[0m\u001b[0;34m,\u001b[0m\u001b[0;36m3\u001b[0m\u001b[0;34m)\u001b[0m\u001b[0;34m,\u001b[0m\u001b[0mstrides\u001b[0m\u001b[0;34m=\u001b[0m\u001b[0;34m(\u001b[0m\u001b[0;36m1\u001b[0m\u001b[0;34m,\u001b[0m\u001b[0;36m1\u001b[0m\u001b[0;34m,\u001b[0m\u001b[0;36m1\u001b[0m\u001b[0;34m)\u001b[0m\u001b[0;34m,\u001b[0m\u001b[0mdata_format\u001b[0m\u001b[0;34m=\u001b[0m\u001b[0;34m'channels_last'\u001b[0m\u001b[0;34m)\u001b[0m\u001b[0;34m)\u001b[0m\u001b[0;34m\u001b[0m\u001b[0;34m\u001b[0m\u001b[0m\n\u001b[1;32m      4\u001b[0m \u001b[0mmodel\u001b[0m\u001b[0;34m.\u001b[0m\u001b[0madd\u001b[0m\u001b[0;34m(\u001b[0m\u001b[0mMaxPooling3D\u001b[0m\u001b[0;34m(\u001b[0m\u001b[0mpool_size\u001b[0m\u001b[0;34m=\u001b[0m\u001b[0;34m(\u001b[0m\u001b[0;36m2\u001b[0m\u001b[0;34m,\u001b[0m\u001b[0;36m2\u001b[0m\u001b[0;34m,\u001b[0m\u001b[0;36m2\u001b[0m\u001b[0;34m)\u001b[0m\u001b[0;34m,\u001b[0m\u001b[0mdata_format\u001b[0m\u001b[0;34m=\u001b[0m\u001b[0;34m'channels_last'\u001b[0m\u001b[0;34m)\u001b[0m\u001b[0;34m)\u001b[0m\u001b[0;34m\u001b[0m\u001b[0;34m\u001b[0m\u001b[0m\n\u001b[1;32m      5\u001b[0m \u001b[0mmodel\u001b[0m\u001b[0;34m.\u001b[0m\u001b[0madd\u001b[0m\u001b[0;34m(\u001b[0m\u001b[0mFlatten\u001b[0m\u001b[0;34m(\u001b[0m\u001b[0;34m)\u001b[0m\u001b[0;34m)\u001b[0m\u001b[0;34m\u001b[0m\u001b[0;34m\u001b[0m\u001b[0m\n",
      "\u001b[0;31mNameError\u001b[0m: name 'Sequential' is not defined"
     ]
    }
   ],
   "source": [
    "model=Sequential()\n",
    "model.add(Conv3D(50,input_shape=(80,80,80,1),kernel_size=(5,5,5),strides=(2,2,2),data_format='channels_last',))\n",
    "model.add(Conv3D(8,kernel_size=(3,3,3),strides=(1,1,1),data_format='channels_last'))\n",
    "model.add(MaxPooling3D(pool_size=(2,2,2),data_format='channels_last'))\n",
    "model.add(Flatten())\n",
    "model.add(Dense(128,activation='linear'))\n",
    "\n",
    "model.add(Dense(output_dim=5, activation='linear',))\n",
    "\n",
    "\n"
   ]
  },
  {
   "cell_type": "code",
   "execution_count": 106,
   "metadata": {},
   "outputs": [
    {
     "data": {
      "text/plain": [
       "(16, 80, 80, 80)"
      ]
     },
     "execution_count": 106,
     "metadata": {},
     "output_type": "execute_result"
    }
   ],
   "source": [
    "X_valc.shape"
   ]
  },
  {
   "cell_type": "code",
   "execution_count": 91,
   "metadata": {},
   "outputs": [
    {
     "name": "stdout",
     "output_type": "stream",
     "text": [
      "(80, 80, 80)\n"
     ]
    }
   ],
   "source": []
  },
  {
   "cell_type": "code",
   "execution_count": 92,
   "metadata": {},
   "outputs": [],
   "source": []
  },
  {
   "cell_type": "code",
   "execution_count": 94,
   "metadata": {},
   "outputs": [
    {
     "data": {
      "text/plain": [
       "(80, 80, 80)"
      ]
     },
     "execution_count": 94,
     "metadata": {},
     "output_type": "execute_result"
    }
   ],
   "source": [
    "datas.shape "
   ]
  },
  {
   "cell_type": "code",
   "execution_count": null,
   "metadata": {},
   "outputs": [],
   "source": []
  }
 ],
 "metadata": {
  "kernelspec": {
   "display_name": "Python 3",
   "language": "python",
   "name": "python3"
  },
  "language_info": {
   "codemirror_mode": {
    "name": "ipython",
    "version": 3
   },
   "file_extension": ".py",
   "mimetype": "text/x-python",
   "name": "python",
   "nbconvert_exporter": "python",
   "pygments_lexer": "ipython3",
   "version": "3.7.3"
  }
 },
 "nbformat": 4,
 "nbformat_minor": 2
}
